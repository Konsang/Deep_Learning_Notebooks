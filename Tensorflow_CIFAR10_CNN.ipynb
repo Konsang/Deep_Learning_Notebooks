{
 "cells": [
  {
   "cell_type": "markdown",
   "metadata": {},
   "source": [
    "## CIFAR10 with Tensorflow\n",
    "\n",
    "This code is written for CIFAR10 using Tensorflow(1.0.1). It achieves an accuracy of 83% after 20 Epochs. \n",
    "\n",
    "The model is as follow: <br>\n",
    " <br>\n",
    "Convolution [3x3] 16 filters <br>\n",
    "Convolution [3x3] 32 filters <br>\n",
    "Pool [2x2] <br>\n",
    "Dropout(0.8) <br>\n",
    "\n",
    "Convolution [3x3] 64 filters <br>\n",
    "Convolution [3x3] 128 filters <br>\n",
    "Pool [2x2] <br>\n",
    "Dropout(0.7) <br>\n",
    "\n",
    "Convolution [3x3] 128 filters <br>\n",
    "Convolution [3x3] 256 filters <br>\n",
    "Flatten <br>\n",
    "Batch normalisation <br>\n",
    "Dropout(0.5) <br>\n",
    " <br>\n",
    "All activations are ReLu <br>\n",
    "Default optimiser is Adam and you can change it to SGD or Nesterov"
   ]
  },
  {
   "cell_type": "code",
   "execution_count": 23,
   "metadata": {
    "collapsed": true
   },
   "outputs": [],
   "source": [
    "import numpy as np\n",
    "import tensorflow as tf\n",
    "import matplotlib.pyplot as plt\n",
    "from six.moves import cPickle as pickle\n",
    "import os\n",
    "from tqdm import tqdm\n",
    "import pylab as pl\n",
    "from IPython import display\n",
    "from imgaug import augmenters as iaa\n",
    "import time"
   ]
  },
  {
   "cell_type": "code",
   "execution_count": 24,
   "metadata": {
    "collapsed": true
   },
   "outputs": [],
   "source": [
    "data_path = \"data/\""
   ]
  },
  {
   "cell_type": "code",
   "execution_count": 25,
   "metadata": {
    "collapsed": true
   },
   "outputs": [],
   "source": [
    "def load_CIFAR_batch(filename):\n",
    "    try:\n",
    "       with open(filename, 'rb') as f:\n",
    "            datadict = pickle.load(f, encoding='bytes')\n",
    "            X = datadict[b'data']\n",
    "            Y = datadict[b'labels']\n",
    "            X = (X.reshape(10000, 3, 32, 32).transpose(0,2,3,1).astype(\"float\"))*-1\n",
    "            Y = np.array(Y)\n",
    "            return X,Y\n",
    "    except EOFError:\n",
    "        return {}"
   ]
  },
  {
   "cell_type": "code",
   "execution_count": 26,
   "metadata": {
    "collapsed": true
   },
   "outputs": [],
   "source": [
    "def load_data(path):\n",
    "    xs = []\n",
    "    ys = []\n",
    "    for i in range(1,6):\n",
    "        f = os.path.join(path, 'data_batch_%d' %( i, ) )\n",
    "        X, Y = load_CIFAR_batch(f)\n",
    "        xs.append(X)\n",
    "        ys.append(Y)\n",
    "    X_tr = np.concatenate(xs)\n",
    "    Y_tr = np.concatenate(ys)\n",
    "    del X, Y\n",
    "    X_te , Y_te = load_CIFAR_batch(os.path.join(path, 'test_batch'))\n",
    "    return X_tr, Y_tr, X_te, Y_te"
   ]
  },
  {
   "cell_type": "code",
   "execution_count": 27,
   "metadata": {},
   "outputs": [
    {
     "name": "stderr",
     "output_type": "stream",
     "text": [
      "100%|████████████████████████████████████████████████████████████████████████████████████████████| 4/4 [00:00<?, ?it/s]\n"
     ]
    }
   ],
   "source": [
    "X_tr, Y_tr, X_te, Y_te = tqdm(load_data(data_path))"
   ]
  },
  {
   "cell_type": "code",
   "execution_count": 28,
   "metadata": {},
   "outputs": [
    {
     "data": {
      "image/png": "[encoded data removed]",
      "text/plain": [
       "<matplotlib.figure.Figure at 0x1e6d66ba278>"
      ]
     },
     "metadata": {},
     "output_type": "display_data"
    }
   ],
   "source": [
    "def shuffleData(X_tr, Y_tr):\n",
    "    shuffle_indices = np.random.permutation(Y_tr.shape[0])\n",
    "    X_tr = X_tr[shuffle_indices,:,:,:]\n",
    "    Y_tr = Y_tr[shuffle_indices]\n",
    "    return X_tr, Y_tr\n",
    "\n",
    "plt.imshow(X_tr[9800])\n",
    "plt.show()"
   ]
  },
  {
   "cell_type": "code",
   "execution_count": 29,
   "metadata": {
    "collapsed": true
   },
   "outputs": [],
   "source": [
    "def augmentor(images,labels):\n",
    "    \n",
    "    aug_images =[]\n",
    "    for image in tqdm(images):\n",
    "        aug_images.append(image)\n",
    "        \n",
    "        # rotater =iaa.Affine(rotate=(-45, 45)) #not working. Color gets distorted\n",
    "        # images = rotater.augment_image(image)\n",
    "\n",
    "        # croper = iaa.Crop(percent=(0.2, 0.1)) #not working. Color gets distorted\n",
    "        # images = croper.augment_image(image)\n",
    "\n",
    "        flipper = iaa.Fliplr(1.0) # always horizontally flip each input image\n",
    "        aug_images.append(flipper.augment_image(image)) \n",
    "\n",
    "        vflipper = iaa.Flipud(1.0) # vertically flip each input image with 100% probability\n",
    "        aug_images.append(vflipper.augment_image(image)) \n",
    "\n",
    "        translater1 = iaa.Affine(translate_px={\"x\": -5}) # move each input image by 5px to the left\n",
    "        aug_images.append(translater1.augment_image(image)) \n",
    "\n",
    "        translater2 = iaa.Affine(translate_px={\"x\": 5}) # move each input image by 5px to the right\n",
    "        aug_images.append(translater2.augment_image(image))\n",
    "\n",
    "        translater3 = iaa.Affine(translate_px={\"y\": -5}) # move each input image by 5px down\n",
    "        aug_images.append(translater3.augment_image(image)) \n",
    "\n",
    "        translater4 = iaa.Affine(translate_px={\"y\": 5}) # move each input image by 5px up\n",
    "        aug_images.append(translater4.augment_image(X_tr[9800]))\n",
    "        \n",
    "    aug_labels=[]\n",
    "    for label in labels:\n",
    "        aug_labels.extend([label]*7)\n",
    "    \n",
    "    print('Augmentation complete')\n",
    "    return np.array(aug_images),np.array(aug_labels)\n",
    "    \n",
    "\n",
    "# X_tr, Y_tr = augmentor(X_tr, Y_tr)"
   ]
  },
  {
   "cell_type": "code",
   "execution_count": 30,
   "metadata": {},
   "outputs": [
    {
     "name": "stdout",
     "output_type": "stream",
     "text": [
      "(50000, 32, 32, 3)\n",
      "(50000,)\n"
     ]
    }
   ],
   "source": [
    "print(X_tr.shape)\n",
    "print(Y_tr.shape)"
   ]
  },
  {
   "cell_type": "code",
   "execution_count": 31,
   "metadata": {},
   "outputs": [
    {
     "data": {
      "image/png": "[encoded data removed]",
      "text/plain": [
       "<matplotlib.figure.Figure at 0x1e6ca333780>"
      ]
     },
     "metadata": {},
     "output_type": "display_data"
    }
   ],
   "source": [
    "X_tr, Y_tr = shuffleData(X_tr, Y_tr)\n",
    "#Checking if data looks okay after randomly shuffling\n",
    "plt.imshow(X_tr[9800])\n",
    "plt.show()"
   ]
  },
  {
   "cell_type": "code",
   "execution_count": 32,
   "metadata": {
    "collapsed": true
   },
   "outputs": [],
   "source": [
    "#Normalization\n",
    "X_tr -= np.mean(X_tr, axis=0)\n",
    "X_tr /= np.std(X_tr, axis=0) \n",
    "\n",
    "X_te -= np.mean(X_te, axis=0)\n",
    "X_te /= np.std(X_te, axis=0) "
   ]
  },
  {
   "cell_type": "code",
   "execution_count": 33,
   "metadata": {},
   "outputs": [
    {
     "name": "stdout",
     "output_type": "stream",
     "text": [
      "[2 5 6]\n",
      "[[ 0.  0.  1.  0.  0.  0.  0.  0.  0.  0.]\n",
      " [ 0.  0.  0.  0.  0.  1.  0.  0.  0.  0.]\n",
      " [ 0.  0.  0.  0.  0.  0.  1.  0.  0.  0.]]\n",
      "(50000, 10)\n"
     ]
    }
   ],
   "source": [
    "training_labels = np.zeros((len(Y_tr),10))\n",
    "testing_labels = np.zeros((len(Y_te),10))\n",
    "training_labels[np.arange(len(Y_tr)), Y_tr] = 1\n",
    "testing_labels[np.arange(len(Y_te)), Y_te] = 1\n",
    "print (Y_tr[5:8])\n",
    "print(training_labels[5:8])\n",
    "print(training_labels.shape)"
   ]
  },
  {
   "cell_type": "code",
   "execution_count": 39,
   "metadata": {
    "collapsed": true
   },
   "outputs": [],
   "source": [
    "#TENSORFLOW MODEL PARAMETERS\n",
    "\n",
    "image_size = 32\n",
    "num_labels = 10\n",
    "num_imgs = 50000\n",
    "input_channels = 3\n",
    "output_nodes = 10\n",
    "data_length = X_tr.shape[0]\n",
    "batch_size = 50\n",
    "\n",
    "channels_K = 8 # First convolutional layer depth\n",
    "channels_L = 16 # Second convolutional layer depth\n",
    "channels_M = 32 # Third convolutional layer depth\n",
    "channels_N = 64 # Fourth convolutional layer depth\n",
    "channels_O = 128 # Fifth convolutional layer depth\n",
    "channels_P = 256 # Fifth convolutional layer depth\n",
    "channels_Q = 200 # Fully connected layer nodes\n",
    "\n",
    "stride_K = 1 \n",
    "stride_L = 1\n",
    "pooling1 = 2\n",
    "stride_M = 1 \n",
    "stride_N = 1\n",
    "pooling2 = 2\n",
    "stride_O = 1 \n",
    "stride_P = 1 \n",
    "\n",
    "patch_K = 3\n",
    "patch_L = 3\n",
    "patch_M = 3\n",
    "patch_N = 3\n",
    "patch_O = 3\n",
    "patch_P = 3\n",
    "patch_Q = int(image_size/(pooling1*pooling2*stride_K*stride_L*stride_M*stride_N*stride_O*stride_P))\n",
    "\n",
    "pkeep_pool1_train, pkeep_pool2_train, pkeep_fc_train = 0.9, 0.7, 0.5 # Probability of keeping a node during dropout = 1.0 at test time (no dropout) and 0.7 at training time\n",
    "pkeep_pool1_test, pkeep_pool2_test, pkeep_fc_test= 1.0, 1.0, 1.0\n",
    "num_steps = 20000\n",
    "\n",
    "lr_start = 0.001 \n",
    "lr_start_SGD = 0.001\n",
    "decay_steps = num_steps\n",
    "decay_rate = 0.95 # for decaying SGD\n",
    "momentum = 0.9 #for momentum optimizer"
   ]
  },
  {
   "cell_type": "code",
   "execution_count": 40,
   "metadata": {
    "collapsed": true
   },
   "outputs": [],
   "source": [
    "def accuracy(predictions, labels):\n",
    "  return (100.0 * np.sum(np.argmax(predictions, 1) == np.argmax(labels, 1)) / predictions.shape[0])"
   ]
  },
  {
   "cell_type": "code",
   "execution_count": null,
   "metadata": {},
   "outputs": [
    {
     "name": "stdout",
     "output_type": "stream",
     "text": [
      "Using Adam optimiser\n",
      "######## Model Ready ########\n"
     ]
    }
   ],
   "source": [
    "#placeholder variables to feed data\n",
    "graph = tf.Graph()\n",
    "with graph.as_default():\n",
    "    X = tf.placeholder(tf.float32,[None, image_size, image_size, input_channels])\n",
    "    Y_ = tf.placeholder(tf.float32,[None, output_nodes])\n",
    "    testing_data = tf.constant(X_te.astype(np.float32))\n",
    "    global_step = tf.Variable(0)\n",
    "\n",
    "    W1 = tf.Variable(tf.truncated_normal([patch_K,patch_K,input_channels,channels_K],stddev=0.1))\n",
    "    B1 = tf.Variable(tf.ones([channels_K])/10)\n",
    "\n",
    "    W2 = tf.Variable(tf.truncated_normal([patch_L,patch_L,channels_K,channels_L],stddev=0.1))\n",
    "    B2 = tf.Variable(tf.ones([channels_L])/10)\n",
    "\n",
    "    W3 = tf.Variable(tf.truncated_normal([patch_M,patch_M,channels_L,channels_M],stddev=0.1))\n",
    "    B3 = tf.Variable(tf.ones([channels_M])/10)\n",
    "    \n",
    "    W4 = tf.Variable(tf.truncated_normal([patch_N,patch_N,channels_M,channels_N],stddev=0.1))\n",
    "    B4 = tf.Variable(tf.ones([channels_N])/10)\n",
    "    \n",
    "    W5 = tf.Variable(tf.truncated_normal([patch_O,patch_O,channels_N,channels_O],stddev=0.1))\n",
    "    B5 = tf.Variable(tf.ones([channels_O])/10)\n",
    "    \n",
    "    W6 = tf.Variable(tf.truncated_normal([patch_P,patch_P,channels_O,channels_P],stddev=0.1))\n",
    "    B6 = tf.Variable(tf.ones([channels_P])/10)\n",
    "\n",
    "    W7 = tf.Variable(tf.truncated_normal([patch_Q*patch_Q*channels_P,channels_Q],stddev=0.1))\n",
    "    B7 = tf.Variable(tf.ones([channels_Q])/10)\n",
    "\n",
    "    W8 = tf.Variable(tf.truncated_normal([channels_Q,output_nodes],stddev=0.1))\n",
    "    B8 = tf.Variable(tf.ones([output_nodes])/10)\n",
    "\n",
    "    #TENSORFLOW MODEL DEFINITION\n",
    "    \n",
    "    def model(data,pkeep_pool1, pkeep_pool2, pkeep_fc):\n",
    "\n",
    "        Y1 = tf.nn.relu(tf.nn.conv2d(data,W1,strides = [1,stride_K,stride_K,1],padding='SAME') + B1 )\n",
    "        Y2 = tf.nn.relu(tf.nn.conv2d(Y1,W2,strides = [1,stride_L,stride_L,1],padding='SAME') + B2 )\n",
    "        pool1 = tf.nn.max_pool(Y2, [1,pooling1,pooling1,1],[1,pooling1,pooling1,1], padding='SAME')\n",
    "        pool1 = tf.nn.dropout(pool1, pkeep_pool1)\n",
    "        \n",
    "        Y3 = tf.nn.relu(tf.nn.conv2d(pool1,W3,strides = [1,stride_M,stride_M,1],padding='SAME') + B3 )\n",
    "        Y4 = tf.nn.relu(tf.nn.conv2d(Y3,W4,strides = [1,stride_N,stride_N,1],padding='SAME') + B4 )\n",
    "        pool2 = tf.nn.max_pool(Y4, [1,pooling2,pooling2,1],[1,pooling2,pooling2,1], padding='SAME')\n",
    "        pool2 = tf.nn.dropout(pool2, pkeep_pool2)\n",
    "        \n",
    "        Y5 = tf.nn.relu(tf.nn.conv2d(pool2,W5,strides = [1,stride_O,stride_O,1],padding='SAME') + B5 )\n",
    "        Y6 = tf.nn.relu(tf.nn.conv2d(Y5,W6,strides = [1,stride_P,stride_P,1],padding='SAME') + B6 )\n",
    "        \n",
    "        YY = tf.reshape(Y6,shape=[-1, patch_Q*patch_Q*channels_P])\n",
    "\n",
    "        Y7 = tf.nn.relu(tf.matmul(YY, W7) + B7)\n",
    "        \n",
    "        #batch normalisation\n",
    "        batch_mean, batch_var = tf.nn.moments(Y7,[0])\n",
    "        offset = tf.Variable(tf.zeros([channels_Q])) \n",
    "        scale = tf.Variable(tf.ones([channels_Q]))\n",
    "        epsilon = 1e-3  \n",
    "        \n",
    "        Y7 = tf.nn.batch_normalization(Y7,batch_mean,batch_var,offset,scale,epsilon)\n",
    "        \n",
    "        Y7 = tf.nn.dropout(Y7, pkeep_fc) \n",
    "        return (tf.matmul(Y7,W8) + B8)\n",
    "    \n",
    "    logits = model(X,pkeep_pool1_train, pkeep_pool2_train, pkeep_fc_train)\n",
    "    loss = tf.reduce_mean(tf.nn.softmax_cross_entropy_with_logits(labels = Y_, logits = logits))\n",
    "    \n",
    "    op_method = 'Adam'\n",
    "    \n",
    "    if op_method=='Adam':\n",
    "        print('Using Adam optimiser')\n",
    "        optimizer = tf.train.AdamOptimizer(lr_start).minimize(loss, global_step=global_step)\n",
    "        \n",
    "    if op_method=='Nesterov':\n",
    "        print('Using Nesterov optimiser')\n",
    "        optimizer = tf.train.MomentumOptimizer(lr_start,momentum, use_nesterov=True).minimize(loss, global_step=global_step) #trying nestrov\n",
    "    \n",
    "    if op_method=='SGD':\n",
    "        print('Using SGD optimiser')\n",
    "        learning_rate = tf.train.exponential_decay(lr_start_SGD, global_step,num_steps,decay_rate,staircase=True) # decaying SGD\n",
    "        optimizer = tf.train.GradientDescentOptimizer(learning_rate).minimize(loss,global_step=global_step)\n",
    "    \n",
    "    train_predict = tf.nn.softmax(logits)\n",
    "    test_predict = tf.nn.softmax(model(testing_data,pkeep_pool1_test, pkeep_pool2_test, pkeep_fc_test))\n",
    "    \n",
    "    saver=tf.train.Saver(write_version=tf.train.SaverDef.V2)\n",
    "\n",
    "print('######## Model Ready ########')"
   ]
  },
  {
   "cell_type": "code",
   "execution_count": null,
   "metadata": {},
   "outputs": [
    {
     "name": "stdout",
     "output_type": "stream",
     "text": [
      "Minibatch loss at step 9000: 0.362733 | Epoch: 9.0 | Time: 37.1 min\n",
      "Minibatch accuracy: 90.0%\n",
      "Last test accuracy: 78.0% at step: 8500 | Change: 2.5\n"
     ]
    },
    {
     "data": {
      "image/png": "[encoded data removed]",
      "text/plain": [
       "<matplotlib.figure.Figure at 0x1e6cbca0588>"
      ]
     },
     "metadata": {},
     "output_type": "display_data"
    }
   ],
   "source": [
    "with tf.Session(graph=graph) as sess:\n",
    "    sess.run(tf.global_variables_initializer())\n",
    "    print(\"Session Started\")\n",
    "    time_start = time.time()\n",
    "    \n",
    "#     try: saver.restore(sess, os.path.join(os.getcwd(), 'Model_variables_pooling.ckpt')) #reads saved checkpoint\n",
    "#     except: print('No model available')\n",
    "    \n",
    "    print('Model_variables read')\n",
    "    \n",
    "    train_accuracy_plot, test_accuracy_plot,step_plot = [], [], []\n",
    "    test_accuracy,last_test_accuracy, change, last_step = 0,0,0,0\n",
    "        \n",
    "    for step in range(num_steps+1):\n",
    "       \n",
    "        start_index = step*batch_size % (training_labels.shape[0] - batch_size)\n",
    "        end_index = start_index + batch_size\n",
    "        batch_data = X_tr[start_index:end_index, : , : , :]\n",
    "        batch_labels = training_labels[start_index:end_index,:]\n",
    "        \n",
    "        fdict = {X:batch_data, Y_:batch_labels}\n",
    "        _ , l, predictions = sess.run([optimizer, loss, train_predict], feed_dict=fdict)\n",
    "        \n",
    "        if step % 50 == 0:\n",
    "            train_accuracy = accuracy(predictions, batch_labels)\n",
    "            \n",
    "            display.clear_output(wait=True)\n",
    "            print('Minibatch loss at step %d: %g | Epoch: %.1f | Time elapsed: %.1f min' % (step, l, step*batch_size/num_imgs, (time.time() - time_start)/60))\n",
    "            print('Minibatch accuracy: %.1f%%' %train_accuracy )\n",
    "            print('Last test accuracy: %.1f%% at step: %s | Last change: %.1f' % (test_accuracy, last_step, change ))\n",
    "\n",
    "            \n",
    "            train_accuracy_plot.append(train_accuracy) \n",
    "            test_accuracy_plot.append(test_accuracy)\n",
    "            step_plot.append(step/100)    \n",
    "            \n",
    "            pl.clf()\n",
    "            pl.xlabel('Iteration')\n",
    "            pl.ylabel('Accuracy')\n",
    "            pl.plot(train_accuracy_plot, '-b', label='Train')\n",
    "            pl.plot(test_accuracy_plot, '-r', label='Test')\n",
    "            pl.legend(loc='upper left')\n",
    "            display.display(pl.gcf())            \n",
    "            \n",
    "        if step % 500 == 0:            \n",
    "            test_accuracy = accuracy(test_predict.eval(), testing_labels)\n",
    "            change = test_accuracy - last_test_accuracy \n",
    "            last_test_accuracy = test_accuracy\n",
    "            last_step = step\n",
    "            \n",
    "        if step % 2000== 0 and step!=0:\n",
    "            save_path= saver.save(sess, os.path.join(os.getcwd(), 'Model_variables_pooling.ckpt'))   #creates checkpoint\n",
    "            print (\"Model saved in file: %s \\n\" %save_path)\n",
    "            \n",
    "    print('Iterations complete')"
   ]
  },
  {
   "cell_type": "code",
   "execution_count": null,
   "metadata": {
    "collapsed": true
   },
   "outputs": [],
   "source": []
  },
  {
   "cell_type": "code",
   "execution_count": null,
   "metadata": {
    "collapsed": true
   },
   "outputs": [],
   "source": []
  }
 ],
 "metadata": {
  "kernelspec": {
   "display_name": "Python 3",
   "language": "python",
   "name": "python3"
  },
  "language_info": {
   "codemirror_mode": {
    "name": "ipython",
    "version": 3
   },
   "file_extension": ".py",
   "mimetype": "text/x-python",
   "name": "python",
   "nbconvert_exporter": "python",
   "pygments_lexer": "ipython3",
   "version": "3.5.3"
  }
 },
 "nbformat": 4,
 "nbformat_minor": 2
}
